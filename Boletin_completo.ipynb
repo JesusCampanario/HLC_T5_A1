{
 "cells": [
  {
   "cell_type": "code",
   "execution_count": null,
   "metadata": {},
   "outputs": [],
   "source": [
    "nombre = input(\"Introduce un nombre\")\n",
    "print(\"bienvenido de nuevo\", nombre)"
   ]
  },
  {
   "cell_type": "code",
   "execution_count": null,
   "metadata": {},
   "outputs": [],
   "source": [
    "numero1 = int(input(\"Introduce el primer número: \"))\n",
    "numero2 = int(input(\"Introduce el segundo número: \"))\n",
    "resultado = numero1 + numero2\n",
    "print(\"la suma de\", numero1, \"y\", numero2, \" es :\", resultado)"
   ]
  },
  {
   "cell_type": "code",
   "execution_count": 7,
   "metadata": {},
   "outputs": [
    {
     "name": "stdout",
     "output_type": "stream",
     "text": [
      "La Temperatura en Fahrenheit es:  59.0\n"
     ]
    }
   ],
   "source": [
    "c = int(input(\"Introduce la temperatura en celcius\"))\n",
    "f = c* 9/5 + 32\n",
    "print(\"La Temperatura en Fahrenheit es: \", f)"
   ]
  },
  {
   "cell_type": "code",
   "execution_count": 9,
   "metadata": {},
   "outputs": [
    {
     "name": "stdout",
     "output_type": "stream",
     "text": [
      "El cuadrado es:  16\n"
     ]
    }
   ],
   "source": [
    "numero = int(input(\"Introduce el número: \"))\n",
    "cuadrado = numero**2\n",
    "print(\"El cuadrado es: \", cuadrado)"
   ]
  },
  {
   "cell_type": "code",
   "execution_count": 12,
   "metadata": {},
   "outputs": [
    {
     "name": "stdout",
     "output_type": "stream",
     "text": [
      "Eres mayor de edad\n"
     ]
    }
   ],
   "source": [
    "edad = int(input(\"inserte su edad: \"))\n",
    "if edad >= 18:\n",
    "    print(\"Eres mayor de edad\")\n",
    "else :  \n",
    "    print(\"Eres menor de edad\")"
   ]
  },
  {
   "cell_type": "code",
   "execution_count": 6,
   "metadata": {},
   "outputs": [
    {
     "name": "stdout",
     "output_type": "stream",
     "text": [
      "21 es mayor\n"
     ]
    }
   ],
   "source": [
    "a = int(input(\"Introduce el primer número: \"))\n",
    "b = int(input(\"Introduce el segundo número: \"))\n",
    "if a > b :\n",
    "    print(a,\"es mayor que\",b)\n",
    "elif b > a :\n",
    "    print(b,\"es mayor que\",a)\n",
    "else :\n",
    "    print(\"Son iguales\") "
   ]
  },
  {
   "cell_type": "code",
   "execution_count": 1,
   "metadata": {},
   "outputs": [
    {
     "name": "stdout",
     "output_type": "stream",
     "text": [
      "La suma de loos dos numeros es :  10\n"
     ]
    }
   ],
   "source": [
    "def suma():\n",
    "    num1 = int(input(\"Introduce un número :\"))\n",
    "    num2 = int(input(\"Introduce un número :\"))\n",
    "    return num1 + num2 \n",
    "\n",
    "resultado = suma()\n",
    "print(\"La suma de loos dos numeros es : \", resultado)\n"
   ]
  },
  {
   "cell_type": "code",
   "execution_count": 2,
   "metadata": {},
   "outputs": [
    {
     "name": "stdout",
     "output_type": "stream",
     "text": [
      "El area es :  25 Metros cuadrados\n",
      "El coste total es de :  125 euros\n"
     ]
    }
   ],
   "source": [
    "base = int(input(\"Introduce la base : \"))\n",
    "altura = int(input(\"Introduce una altura : \"))\n",
    "precio = int(input(\"Introduce un precio : \"))\n",
    "    \n",
    "\n",
    "def area():\n",
    "\n",
    "    return base*altura\n",
    "\n",
    "resultadoArea = area()\n",
    "print(\"El area es : \", resultadoArea, \"Metros cuadrados\")\n",
    "\n",
    "def CosteTotal():\n",
    "\n",
    "    return resultadoArea*precio\n",
    "\n",
    "resultadoPrecio = CosteTotal()\n",
    "print(\"El coste total es de : \",resultadoPrecio, \"euros\")\n"
   ]
  }
 ],
 "metadata": {
  "kernelspec": {
   "display_name": "Python 3",
   "language": "python",
   "name": "python3"
  },
  "language_info": {
   "codemirror_mode": {
    "name": "ipython",
    "version": 3
   },
   "file_extension": ".py",
   "mimetype": "text/x-python",
   "name": "python",
   "nbconvert_exporter": "python",
   "pygments_lexer": "ipython3",
   "version": "3.13.1"
  }
 },
 "nbformat": 4,
 "nbformat_minor": 2
}
